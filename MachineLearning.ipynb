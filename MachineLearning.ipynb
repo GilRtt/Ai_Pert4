{
  "nbformat": 4,
  "nbformat_minor": 0,
  "metadata": {
    "colab": {
      "provenance": []
    },
    "kernelspec": {
      "name": "python3",
      "display_name": "Python 3"
    },
    "language_info": {
      "name": "python"
    }
  },
  "cells": [
    {
      "cell_type": "markdown",
      "source": [
        "Nama: Agil Rahmat\n",
        "\n",
        "NIM: 2106037"
      ],
      "metadata": {
        "id": "p_nthjxoXs6K"
      }
    },
    {
      "cell_type": "code",
      "execution_count": 26,
      "metadata": {
        "colab": {
          "base_uri": "https://localhost:8080/"
        },
        "id": "8_luavVfXWdv",
        "outputId": "fb5e4e19-b355-4dd1-fa5f-1039fbd088b5"
      },
      "outputs": [
        {
          "output_type": "stream",
          "name": "stdout",
          "text": [
            "  Jenis_Kelamin        Nama_User  Tahun_lahir Tingkatan  Bulan_lahir  \\\n",
            "0             P       Dinda Aini         1992         M            8   \n",
            "1             P      Dina Jamila         1985         L           11   \n",
            "2             L  Rifki Jalaludin         1997         L            6   \n",
            "3             L     Yusuf Basith         2001         H            8   \n",
            "4             P     Rima Arianti         1994         M            2   \n",
            "\n",
            "   Tanggal_lahir Wifi_Name Penggunaan_Search Email_User Baca_berita Facebook  \\\n",
            "0              1  Indihome            Chrome      Yahoo           Y        N   \n",
            "1              2    iconet            Chorme    Hotmail           Y        N   \n",
            "2              2  Indihome          Mirosoft      Yahoo           Y        Y   \n",
            "3              6  Indihome            Chorme    Hotmail           N        Y   \n",
            "4             23    Biznet             Opera    Hotmail           Y        Y   \n",
            "\n",
            "  Whatsapp Youtube Instagram Jaringan_sosial  \n",
            "0        N       Y         N             NaN  \n",
            "1        N       Y         N             NaN  \n",
            "2      NaN       Y         N             NaN  \n",
            "3        N       N         Y             NaN  \n",
            "4        N       Y        N              NaN  \n",
            "0\n",
            "0\n",
            "1\n",
            "0\n",
            "3\n",
            "0\n",
            "7\n",
            "0\n",
            "N     6\n",
            "Y     2\n",
            "N     1\n",
            "Name: Instagram, dtype: int64\n"
          ]
        }
      ],
      "source": [
        "import pandas as pd\n",
        "\n",
        "#Import dataset\n",
        "dataset = pd.read_csv('WifiUser.csv')\n",
        "\n",
        "#Tampilkan 5 baris pertama dari dataset\n",
        "print(dataset.head())\n",
        "\n",
        "#cek jumlah missing values pada kolom\n",
        "print(dataset['Youtube'].isna().sum())\n",
        "\n",
        "#mengganti missing values pada kolom dengan nilai baru\n",
        "dataset['Youtube'].fillna('N',inplace=True)\n",
        "\n",
        "#cek kembali jumlah missing values pada kolom\n",
        "print(dataset['Youtube'].isna().sum())\n",
        "\n",
        "#cek jumlah missing values pada kolom\n",
        "print(dataset['Baca_berita'].isna().sum())\n",
        "\n",
        "#mengganti missing values pada kolom dengan nilai baru\n",
        "dataset['Baca_berita'].fillna('N',inplace=True)\n",
        "\n",
        "#cek kembali jumlah missing values pada kolom\n",
        "print(dataset['Baca_berita'].isna().sum())\n",
        "\n",
        "#cek jumlah missing values pada kolom\n",
        "print(dataset['Whatsapp'].isna().sum())\n",
        "\n",
        "#mengganti missing values pada kolom dengan nilai baru\n",
        "dataset['Whatsapp'].fillna('N',inplace=True)\n",
        "\n",
        "#cek kembali jumlah missing values pada kolom\n",
        "print(dataset['Whatsapp'].isna().sum())\n",
        "\n",
        "#cek jumlah missing values pada kolom\n",
        "print(dataset['Jaringan_sosial'].isna().sum())\n",
        "\n",
        "#mengganti missing values pada kolom dengan nilai baru\n",
        "dataset['Jaringan_sosial'].fillna('N',inplace=True)\n",
        "\n",
        "#cek kembali jumlah missing values pada kolom\n",
        "print(dataset['Jaringan_sosial'].isna().sum())\n",
        "\n",
        "#ubah nilai yang tidak konsisten pada atribut\n",
        "dataset['Instagram'].replace(['81'],['N'],inplace=True)\n",
        "\n",
        "#Tampilan hasil perubahan\n",
        "print(dataset['Instagram'].value_counts())\n",
        "\n"
      ]
    }
  ]
}